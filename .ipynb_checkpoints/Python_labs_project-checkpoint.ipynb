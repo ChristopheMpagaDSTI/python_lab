{
 "cells": [
  {
   "cell_type": "markdown",
   "id": "2729131c",
   "metadata": {},
   "source": [
    "Project plan\n",
    "\n",
    "1. problem formulation :  \n",
    "Context : we have been instructed to predict books ratings from provided data   \n",
    "2. Data preprocessing\n",
    "3. EDA\n",
    "4. features engineering \n",
    "5. modelling & Machine learning \n",
    "6. Model validation\n",
    "7. deployment"
   ]
  },
  {
   "cell_type": "code",
   "execution_count": 50,
   "id": "4f6b1fb5",
   "metadata": {},
   "outputs": [
    {
     "name": "stdout",
     "output_type": "stream",
     "text": [
      "# conda environments:\r\n",
      "#\r\n",
      "                         /Users/mpaga/Library/r-miniconda\r\n",
      "                         /Users/mpaga/Library/r-miniconda/envs/r-reticulate\r\n",
      "                         /Users/mpaga/miniconda3\r\n",
      "base                  *  /Users/mpaga/opt/anaconda3\r\n",
      "Project1                 /Users/mpaga/opt/anaconda3/envs/Project1\r\n",
      "bootcamp                 /Users/mpaga/opt/anaconda3/envs/bootcamp\r\n",
      "env_aws                  /Users/mpaga/opt/anaconda3/envs/env_aws\r\n",
      "env_mlops                /Users/mpaga/opt/anaconda3/envs/env_mlops\r\n",
      "env_wine_app             /Users/mpaga/opt/anaconda3/envs/env_wine_app\r\n",
      "pandas_cookBook          /Users/mpaga/opt/anaconda3/envs/pandas_cookBook\r\n",
      "pandas_cookbook          /Users/mpaga/opt/anaconda3/envs/pandas_cookbook\r\n",
      "tf                       /Users/mpaga/opt/anaconda3/envs/tf\r\n",
      "                         /Users/mpaga/tf\r\n",
      "                         /usr/local/bin\r\n",
      "\r\n"
     ]
    }
   ],
   "source": [
    "!conda env list "
   ]
  },
  {
   "cell_type": "code",
   "execution_count": 51,
   "id": "4a18c0ac",
   "metadata": {},
   "outputs": [],
   "source": [
    "# install libraries \n",
    "#!pip install pandas\n",
    "#!pip install numpy\n",
    "#!pip install seaborn\n",
    "#!pip install matplotlib\n",
    "#!pip install plotly \n",
    "#!pip install -U scikit-learn\n",
    "#!pip install datetime "
   ]
  },
  {
   "cell_type": "code",
   "execution_count": 52,
   "id": "002c5c79",
   "metadata": {},
   "outputs": [],
   "source": [
    "# load libraries \n",
    "import pandas as pd\n",
    "import numpy as np\n",
    "import seaborn as sns\n",
    "import matplotlib as plt\n",
    "import plotly as ply\n",
    "import sklearn as skl\n",
    "import datetime as dt"
   ]
  },
  {
   "cell_type": "code",
   "execution_count": 53,
   "id": "b0058b45",
   "metadata": {},
   "outputs": [],
   "source": [
    "# load data \n",
    "df = pd.read_csv(\"books.csv\")"
   ]
  },
  {
   "cell_type": "markdown",
   "id": "af0df230",
   "metadata": {},
   "source": [
    "2 Data preprocessing "
   ]
  },
  {
   "cell_type": "markdown",
   "id": "03da0d13",
   "metadata": {},
   "source": [
    "2.1  inspect data "
   ]
  },
  {
   "cell_type": "code",
   "execution_count": 54,
   "id": "54080887",
   "metadata": {},
   "outputs": [
    {
     "data": {
      "text/html": [
       "<div>\n",
       "<style scoped>\n",
       "    .dataframe tbody tr th:only-of-type {\n",
       "        vertical-align: middle;\n",
       "    }\n",
       "\n",
       "    .dataframe tbody tr th {\n",
       "        vertical-align: top;\n",
       "    }\n",
       "\n",
       "    .dataframe thead th {\n",
       "        text-align: right;\n",
       "    }\n",
       "</style>\n",
       "<table border=\"1\" class=\"dataframe\">\n",
       "  <thead>\n",
       "    <tr style=\"text-align: right;\">\n",
       "      <th></th>\n",
       "      <th>bookID</th>\n",
       "      <th>title</th>\n",
       "      <th>authors</th>\n",
       "      <th>average_rating</th>\n",
       "      <th>isbn</th>\n",
       "      <th>isbn13</th>\n",
       "      <th>language_code</th>\n",
       "      <th>num_pages</th>\n",
       "      <th>ratings_count</th>\n",
       "      <th>text_reviews_count</th>\n",
       "      <th>publication_date</th>\n",
       "      <th>publisher</th>\n",
       "    </tr>\n",
       "  </thead>\n",
       "  <tbody>\n",
       "    <tr>\n",
       "      <th>0</th>\n",
       "      <td>1</td>\n",
       "      <td>Harry Potter and the Half-Blood Prince (Harry ...</td>\n",
       "      <td>J.K. Rowling/Mary GrandPré</td>\n",
       "      <td>4.57</td>\n",
       "      <td>0439785960</td>\n",
       "      <td>9780439785969</td>\n",
       "      <td>eng</td>\n",
       "      <td>652</td>\n",
       "      <td>2095690</td>\n",
       "      <td>27591</td>\n",
       "      <td>9/16/2006</td>\n",
       "      <td>Scholastic Inc.</td>\n",
       "    </tr>\n",
       "    <tr>\n",
       "      <th>1</th>\n",
       "      <td>2</td>\n",
       "      <td>Harry Potter and the Order of the Phoenix (Har...</td>\n",
       "      <td>J.K. Rowling/Mary GrandPré</td>\n",
       "      <td>4.49</td>\n",
       "      <td>0439358078</td>\n",
       "      <td>9780439358071</td>\n",
       "      <td>eng</td>\n",
       "      <td>870</td>\n",
       "      <td>2153167</td>\n",
       "      <td>29221</td>\n",
       "      <td>9/1/2004</td>\n",
       "      <td>Scholastic Inc.</td>\n",
       "    </tr>\n",
       "  </tbody>\n",
       "</table>\n",
       "</div>"
      ],
      "text/plain": [
       "   bookID                                              title  \\\n",
       "0       1  Harry Potter and the Half-Blood Prince (Harry ...   \n",
       "1       2  Harry Potter and the Order of the Phoenix (Har...   \n",
       "\n",
       "                      authors  average_rating        isbn         isbn13  \\\n",
       "0  J.K. Rowling/Mary GrandPré            4.57  0439785960  9780439785969   \n",
       "1  J.K. Rowling/Mary GrandPré            4.49  0439358078  9780439358071   \n",
       "\n",
       "  language_code    num_pages  ratings_count  text_reviews_count  \\\n",
       "0           eng          652        2095690               27591   \n",
       "1           eng          870        2153167               29221   \n",
       "\n",
       "  publication_date        publisher  \n",
       "0        9/16/2006  Scholastic Inc.  \n",
       "1         9/1/2004  Scholastic Inc.  "
      ]
     },
     "execution_count": 54,
     "metadata": {},
     "output_type": "execute_result"
    }
   ],
   "source": [
    "df.head(2)"
   ]
  },
  {
   "cell_type": "code",
   "execution_count": 55,
   "id": "79cd1ae4",
   "metadata": {},
   "outputs": [
    {
     "data": {
      "text/html": [
       "<div>\n",
       "<style scoped>\n",
       "    .dataframe tbody tr th:only-of-type {\n",
       "        vertical-align: middle;\n",
       "    }\n",
       "\n",
       "    .dataframe tbody tr th {\n",
       "        vertical-align: top;\n",
       "    }\n",
       "\n",
       "    .dataframe thead th {\n",
       "        text-align: right;\n",
       "    }\n",
       "</style>\n",
       "<table border=\"1\" class=\"dataframe\">\n",
       "  <thead>\n",
       "    <tr style=\"text-align: right;\">\n",
       "      <th></th>\n",
       "      <th>bookID</th>\n",
       "      <th>title</th>\n",
       "      <th>authors</th>\n",
       "      <th>average_rating</th>\n",
       "      <th>isbn</th>\n",
       "      <th>isbn13</th>\n",
       "      <th>language_code</th>\n",
       "      <th>num_pages</th>\n",
       "      <th>ratings_count</th>\n",
       "      <th>text_reviews_count</th>\n",
       "      <th>publication_date</th>\n",
       "      <th>publisher</th>\n",
       "    </tr>\n",
       "  </thead>\n",
       "  <tbody>\n",
       "    <tr>\n",
       "      <th>11125</th>\n",
       "      <td>45639</td>\n",
       "      <td>Poor People</td>\n",
       "      <td>William T. Vollmann</td>\n",
       "      <td>3.72</td>\n",
       "      <td>0060878827</td>\n",
       "      <td>9780060878825</td>\n",
       "      <td>eng</td>\n",
       "      <td>434</td>\n",
       "      <td>769</td>\n",
       "      <td>139</td>\n",
       "      <td>2/27/2007</td>\n",
       "      <td>Ecco</td>\n",
       "    </tr>\n",
       "    <tr>\n",
       "      <th>11126</th>\n",
       "      <td>45641</td>\n",
       "      <td>Las aventuras de Tom Sawyer</td>\n",
       "      <td>Mark Twain</td>\n",
       "      <td>3.91</td>\n",
       "      <td>8497646983</td>\n",
       "      <td>9788497646987</td>\n",
       "      <td>spa</td>\n",
       "      <td>272</td>\n",
       "      <td>113</td>\n",
       "      <td>12</td>\n",
       "      <td>5/28/2006</td>\n",
       "      <td>Edimat Libros</td>\n",
       "    </tr>\n",
       "  </tbody>\n",
       "</table>\n",
       "</div>"
      ],
      "text/plain": [
       "       bookID                        title              authors  \\\n",
       "11125   45639                  Poor People  William T. Vollmann   \n",
       "11126   45641  Las aventuras de Tom Sawyer           Mark Twain   \n",
       "\n",
       "       average_rating        isbn         isbn13 language_code    num_pages  \\\n",
       "11125            3.72  0060878827  9780060878825           eng          434   \n",
       "11126            3.91  8497646983  9788497646987           spa          272   \n",
       "\n",
       "       ratings_count  text_reviews_count publication_date      publisher  \n",
       "11125            769                 139        2/27/2007           Ecco  \n",
       "11126            113                  12        5/28/2006  Edimat Libros  "
      ]
     },
     "execution_count": 55,
     "metadata": {},
     "output_type": "execute_result"
    }
   ],
   "source": [
    "df.tail(2)"
   ]
  },
  {
   "cell_type": "code",
   "execution_count": 56,
   "id": "9f3eb044",
   "metadata": {},
   "outputs": [
    {
     "data": {
      "text/plain": [
       "(11127, 12)"
      ]
     },
     "execution_count": 56,
     "metadata": {},
     "output_type": "execute_result"
    }
   ],
   "source": [
    "# df shape \n",
    "df.shape"
   ]
  },
  {
   "cell_type": "code",
   "execution_count": 57,
   "id": "9bf22e59",
   "metadata": {},
   "outputs": [],
   "source": [
    "# df info\n",
    "#df.info()"
   ]
  },
  {
   "cell_type": "code",
   "execution_count": 58,
   "id": "74f74529",
   "metadata": {},
   "outputs": [
    {
     "data": {
      "text/plain": [
       "Index(['bookID', 'title', 'authors', 'average_rating', 'isbn', 'isbn13',\n",
       "       'language_code', '  num_pages', 'ratings_count', 'text_reviews_count',\n",
       "       'publication_date', 'publisher'],\n",
       "      dtype='object')"
      ]
     },
     "execution_count": 58,
     "metadata": {},
     "output_type": "execute_result"
    }
   ],
   "source": [
    "# columns names\n",
    "df.columns"
   ]
  },
  {
   "cell_type": "code",
   "execution_count": 59,
   "id": "91609d11",
   "metadata": {},
   "outputs": [
    {
     "data": {
      "text/html": [
       "<div>\n",
       "<style scoped>\n",
       "    .dataframe tbody tr th:only-of-type {\n",
       "        vertical-align: middle;\n",
       "    }\n",
       "\n",
       "    .dataframe tbody tr th {\n",
       "        vertical-align: top;\n",
       "    }\n",
       "\n",
       "    .dataframe thead th {\n",
       "        text-align: right;\n",
       "    }\n",
       "</style>\n",
       "<table border=\"1\" class=\"dataframe\">\n",
       "  <thead>\n",
       "    <tr style=\"text-align: right;\">\n",
       "      <th></th>\n",
       "      <th>count</th>\n",
       "      <th>mean</th>\n",
       "      <th>std</th>\n",
       "      <th>min</th>\n",
       "      <th>25%</th>\n",
       "      <th>50%</th>\n",
       "      <th>75%</th>\n",
       "      <th>max</th>\n",
       "    </tr>\n",
       "  </thead>\n",
       "  <tbody>\n",
       "    <tr>\n",
       "      <th>bookID</th>\n",
       "      <td>11127.0</td>\n",
       "      <td>2.131094e+04</td>\n",
       "      <td>1.309336e+04</td>\n",
       "      <td>1.000000e+00</td>\n",
       "      <td>1.028700e+04</td>\n",
       "      <td>2.028700e+04</td>\n",
       "      <td>3.210450e+04</td>\n",
       "      <td>4.564100e+04</td>\n",
       "    </tr>\n",
       "    <tr>\n",
       "      <th>average_rating</th>\n",
       "      <td>11127.0</td>\n",
       "      <td>3.933631e+00</td>\n",
       "      <td>3.524450e-01</td>\n",
       "      <td>0.000000e+00</td>\n",
       "      <td>3.770000e+00</td>\n",
       "      <td>3.960000e+00</td>\n",
       "      <td>4.135000e+00</td>\n",
       "      <td>5.000000e+00</td>\n",
       "    </tr>\n",
       "    <tr>\n",
       "      <th>isbn13</th>\n",
       "      <td>11127.0</td>\n",
       "      <td>9.759888e+12</td>\n",
       "      <td>4.428964e+11</td>\n",
       "      <td>8.987060e+09</td>\n",
       "      <td>9.780345e+12</td>\n",
       "      <td>9.780586e+12</td>\n",
       "      <td>9.780873e+12</td>\n",
       "      <td>9.790008e+12</td>\n",
       "    </tr>\n",
       "    <tr>\n",
       "      <th>num_pages</th>\n",
       "      <td>11127.0</td>\n",
       "      <td>3.363769e+02</td>\n",
       "      <td>2.411273e+02</td>\n",
       "      <td>0.000000e+00</td>\n",
       "      <td>1.920000e+02</td>\n",
       "      <td>2.990000e+02</td>\n",
       "      <td>4.160000e+02</td>\n",
       "      <td>6.576000e+03</td>\n",
       "    </tr>\n",
       "    <tr>\n",
       "      <th>ratings_count</th>\n",
       "      <td>11127.0</td>\n",
       "      <td>1.793641e+04</td>\n",
       "      <td>1.124794e+05</td>\n",
       "      <td>0.000000e+00</td>\n",
       "      <td>1.040000e+02</td>\n",
       "      <td>7.450000e+02</td>\n",
       "      <td>4.993500e+03</td>\n",
       "      <td>4.597666e+06</td>\n",
       "    </tr>\n",
       "    <tr>\n",
       "      <th>text_reviews_count</th>\n",
       "      <td>11127.0</td>\n",
       "      <td>5.418545e+02</td>\n",
       "      <td>2.576177e+03</td>\n",
       "      <td>0.000000e+00</td>\n",
       "      <td>9.000000e+00</td>\n",
       "      <td>4.600000e+01</td>\n",
       "      <td>2.375000e+02</td>\n",
       "      <td>9.426500e+04</td>\n",
       "    </tr>\n",
       "  </tbody>\n",
       "</table>\n",
       "</div>"
      ],
      "text/plain": [
       "                      count          mean           std           min  \\\n",
       "bookID              11127.0  2.131094e+04  1.309336e+04  1.000000e+00   \n",
       "average_rating      11127.0  3.933631e+00  3.524450e-01  0.000000e+00   \n",
       "isbn13              11127.0  9.759888e+12  4.428964e+11  8.987060e+09   \n",
       "  num_pages         11127.0  3.363769e+02  2.411273e+02  0.000000e+00   \n",
       "ratings_count       11127.0  1.793641e+04  1.124794e+05  0.000000e+00   \n",
       "text_reviews_count  11127.0  5.418545e+02  2.576177e+03  0.000000e+00   \n",
       "\n",
       "                             25%           50%           75%           max  \n",
       "bookID              1.028700e+04  2.028700e+04  3.210450e+04  4.564100e+04  \n",
       "average_rating      3.770000e+00  3.960000e+00  4.135000e+00  5.000000e+00  \n",
       "isbn13              9.780345e+12  9.780586e+12  9.780873e+12  9.790008e+12  \n",
       "  num_pages         1.920000e+02  2.990000e+02  4.160000e+02  6.576000e+03  \n",
       "ratings_count       1.040000e+02  7.450000e+02  4.993500e+03  4.597666e+06  \n",
       "text_reviews_count  9.000000e+00  4.600000e+01  2.375000e+02  9.426500e+04  "
      ]
     },
     "execution_count": 59,
     "metadata": {},
     "output_type": "execute_result"
    }
   ],
   "source": [
    "# describe numeric variables\n",
    "df.describe(exclude=\"object\").T"
   ]
  },
  {
   "cell_type": "code",
   "execution_count": 60,
   "id": "e0043404",
   "metadata": {},
   "outputs": [
    {
     "data": {
      "text/html": [
       "<div>\n",
       "<style scoped>\n",
       "    .dataframe tbody tr th:only-of-type {\n",
       "        vertical-align: middle;\n",
       "    }\n",
       "\n",
       "    .dataframe tbody tr th {\n",
       "        vertical-align: top;\n",
       "    }\n",
       "\n",
       "    .dataframe thead th {\n",
       "        text-align: right;\n",
       "    }\n",
       "</style>\n",
       "<table border=\"1\" class=\"dataframe\">\n",
       "  <thead>\n",
       "    <tr style=\"text-align: right;\">\n",
       "      <th></th>\n",
       "      <th>count</th>\n",
       "      <th>unique</th>\n",
       "      <th>top</th>\n",
       "      <th>freq</th>\n",
       "    </tr>\n",
       "  </thead>\n",
       "  <tbody>\n",
       "    <tr>\n",
       "      <th>title</th>\n",
       "      <td>11127</td>\n",
       "      <td>10352</td>\n",
       "      <td>The Brothers Karamazov</td>\n",
       "      <td>9</td>\n",
       "    </tr>\n",
       "    <tr>\n",
       "      <th>authors</th>\n",
       "      <td>11127</td>\n",
       "      <td>6643</td>\n",
       "      <td>Stephen King</td>\n",
       "      <td>40</td>\n",
       "    </tr>\n",
       "    <tr>\n",
       "      <th>isbn</th>\n",
       "      <td>11127</td>\n",
       "      <td>11127</td>\n",
       "      <td>0439785960</td>\n",
       "      <td>1</td>\n",
       "    </tr>\n",
       "    <tr>\n",
       "      <th>language_code</th>\n",
       "      <td>11127</td>\n",
       "      <td>27</td>\n",
       "      <td>eng</td>\n",
       "      <td>8911</td>\n",
       "    </tr>\n",
       "    <tr>\n",
       "      <th>publication_date</th>\n",
       "      <td>11127</td>\n",
       "      <td>3679</td>\n",
       "      <td>10/1/2005</td>\n",
       "      <td>56</td>\n",
       "    </tr>\n",
       "    <tr>\n",
       "      <th>publisher</th>\n",
       "      <td>11127</td>\n",
       "      <td>2292</td>\n",
       "      <td>Vintage</td>\n",
       "      <td>318</td>\n",
       "    </tr>\n",
       "  </tbody>\n",
       "</table>\n",
       "</div>"
      ],
      "text/plain": [
       "                  count unique                     top  freq\n",
       "title             11127  10352  The Brothers Karamazov     9\n",
       "authors           11127   6643            Stephen King    40\n",
       "isbn              11127  11127              0439785960     1\n",
       "language_code     11127     27                     eng  8911\n",
       "publication_date  11127   3679               10/1/2005    56\n",
       "publisher         11127   2292                 Vintage   318"
      ]
     },
     "execution_count": 60,
     "metadata": {},
     "output_type": "execute_result"
    }
   ],
   "source": [
    "# describe non-numeric  variables\n",
    "df.describe(include=\"object\").T"
   ]
  },
  {
   "cell_type": "code",
   "execution_count": 61,
   "id": "a52978b0",
   "metadata": {},
   "outputs": [
    {
     "data": {
      "text/plain": [
       "True"
      ]
     },
     "execution_count": 61,
     "metadata": {},
     "output_type": "execute_result"
    }
   ],
   "source": [
    "# unique BookID ?\n",
    "len(df.bookID)== df.shape[0]"
   ]
  },
  {
   "cell_type": "markdown",
   "id": "f38cba68",
   "metadata": {},
   "source": [
    "There is no duplicate ID in data "
   ]
  },
  {
   "cell_type": "markdown",
   "id": "5128da2a",
   "metadata": {},
   "source": [
    "2.2  clean data "
   ]
  },
  {
   "cell_type": "code",
   "execution_count": 62,
   "id": "5a58c05c",
   "metadata": {},
   "outputs": [
    {
     "name": "stderr",
     "output_type": "stream",
     "text": [
      "/var/folders/dr/qtbb25gd2pl7ssnx51bqxv6r0000gp/T/ipykernel_7471/1680810485.py:13: SettingWithCopyWarning: \n",
      "A value is trying to be set on a copy of a slice from a DataFrame\n",
      "\n",
      "See the caveats in the documentation: https://pandas.pydata.org/pandas-docs/stable/user_guide/indexing.html#returning-a-view-versus-a-copy\n",
      "  df[\"publication_Date\"][i] = dt.date(year,month,day)\n"
     ]
    },
    {
     "name": "stdout",
     "output_type": "stream",
     "text": [
      "no date issue\n"
     ]
    }
   ],
   "source": [
    "# change from string to datetime object \n",
    "# for loop to parse date \n",
    "df[\"publication_Date\"]= pd.Series(dtype=\"int\")\n",
    "cnt = 0\n",
    "for i in range(len(df.publication_date)) :\n",
    "    month,day,year = map(int,df.publication_date[i].split('/'))\n",
    "\n",
    "    if month in [4,6,9,11] and day > 30:\n",
    "        day = 30\n",
    "        df[\"publication_Date\"][i] = dt.date(year,month,day)\n",
    "    elif(month==2 and day > 28 and year % 4 != 0):\n",
    "        day = 28\n",
    "    df[\"publication_Date\"][i] = dt.date(year,month,day)\n",
    "    cnt +=1\n",
    "if (cnt == len(df.publication_date)) :\n",
    "    print(\"no date issue\" )\n",
    " "
   ]
  },
  {
   "cell_type": "code",
   "execution_count": 63,
   "id": "7c0c371f",
   "metadata": {},
   "outputs": [
    {
     "data": {
      "text/plain": [
       "count          11127\n",
       "unique          3678\n",
       "top       2005-10-01\n",
       "freq              56\n",
       "Name: publication_Date, dtype: object"
      ]
     },
     "execution_count": 63,
     "metadata": {},
     "output_type": "execute_result"
    }
   ],
   "source": [
    "# remove publication date \n",
    "df=df.drop(\"publication_date\",axis=1)\n",
    "df.publication_Date.describe()"
   ]
  },
  {
   "cell_type": "code",
   "execution_count": 64,
   "id": "2c763a30",
   "metadata": {},
   "outputs": [
    {
     "data": {
      "text/plain": [
       "Index(['bookID', 'title', 'authors', 'average_rating', 'isbn', 'isbn13',\n",
       "       'language_code', 'num_pages', 'ratings_count', 'text_reviews_count',\n",
       "       'publisher', 'publication_Date'],\n",
       "      dtype='object')"
      ]
     },
     "execution_count": 64,
     "metadata": {},
     "output_type": "execute_result"
    }
   ],
   "source": [
    "# remove heading whitespace from num_pages features \n",
    "df = df.rename(columns = {\"  num_pages\" : \"num_pages\"})\n",
    "df.columns"
   ]
  },
  {
   "cell_type": "code",
   "execution_count": 65,
   "id": "cb646068",
   "metadata": {},
   "outputs": [
    {
     "data": {
      "text/plain": [
       "0"
      ]
     },
     "execution_count": 65,
     "metadata": {},
     "output_type": "execute_result"
    }
   ],
   "source": [
    "#na check \n",
    "df.isna().sum().sum()"
   ]
  },
  {
   "cell_type": "markdown",
   "id": "4d17ae46",
   "metadata": {},
   "source": [
    "There is no NA in df"
   ]
  },
  {
   "cell_type": "code",
   "execution_count": 66,
   "id": "32bd8019",
   "metadata": {},
   "outputs": [
    {
     "name": "stdout",
     "output_type": "stream",
     "text": [
      "There is no NA in average_rating\n"
     ]
    }
   ],
   "source": [
    "# na check in average_rating\n",
    "if (df.average_rating.isna().mean() == 0 ) :\n",
    "    print(\"There is no NA in average_rating\")\n",
    "else:\n",
    "    print(\"There are NA in average_rating\")"
   ]
  },
  {
   "cell_type": "markdown",
   "id": "f808cc77",
   "metadata": {},
   "source": [
    "3 EDA "
   ]
  },
  {
   "cell_type": "code",
   "execution_count": 67,
   "id": "37ba7691",
   "metadata": {},
   "outputs": [
    {
     "data": {
      "text/html": [
       "<div>\n",
       "<style scoped>\n",
       "    .dataframe tbody tr th:only-of-type {\n",
       "        vertical-align: middle;\n",
       "    }\n",
       "\n",
       "    .dataframe tbody tr th {\n",
       "        vertical-align: top;\n",
       "    }\n",
       "\n",
       "    .dataframe thead th {\n",
       "        text-align: right;\n",
       "    }\n",
       "</style>\n",
       "<table border=\"1\" class=\"dataframe\">\n",
       "  <thead>\n",
       "    <tr style=\"text-align: right;\">\n",
       "      <th></th>\n",
       "      <th>bookID</th>\n",
       "      <th>average_rating</th>\n",
       "      <th>isbn13</th>\n",
       "      <th>num_pages</th>\n",
       "      <th>ratings_count</th>\n",
       "      <th>text_reviews_count</th>\n",
       "    </tr>\n",
       "  </thead>\n",
       "  <tbody>\n",
       "    <tr>\n",
       "      <th>count</th>\n",
       "      <td>11127.000000</td>\n",
       "      <td>11127.000000</td>\n",
       "      <td>1.112700e+04</td>\n",
       "      <td>11127.000000</td>\n",
       "      <td>1.112700e+04</td>\n",
       "      <td>11127.000000</td>\n",
       "    </tr>\n",
       "    <tr>\n",
       "      <th>mean</th>\n",
       "      <td>21310.938887</td>\n",
       "      <td>3.933631</td>\n",
       "      <td>9.759888e+12</td>\n",
       "      <td>336.376921</td>\n",
       "      <td>1.793641e+04</td>\n",
       "      <td>541.854498</td>\n",
       "    </tr>\n",
       "    <tr>\n",
       "      <th>std</th>\n",
       "      <td>13093.358023</td>\n",
       "      <td>0.352445</td>\n",
       "      <td>4.428964e+11</td>\n",
       "      <td>241.127305</td>\n",
       "      <td>1.124794e+05</td>\n",
       "      <td>2576.176608</td>\n",
       "    </tr>\n",
       "    <tr>\n",
       "      <th>min</th>\n",
       "      <td>1.000000</td>\n",
       "      <td>0.000000</td>\n",
       "      <td>8.987060e+09</td>\n",
       "      <td>0.000000</td>\n",
       "      <td>0.000000e+00</td>\n",
       "      <td>0.000000</td>\n",
       "    </tr>\n",
       "    <tr>\n",
       "      <th>25%</th>\n",
       "      <td>10287.000000</td>\n",
       "      <td>3.770000</td>\n",
       "      <td>9.780345e+12</td>\n",
       "      <td>192.000000</td>\n",
       "      <td>1.040000e+02</td>\n",
       "      <td>9.000000</td>\n",
       "    </tr>\n",
       "    <tr>\n",
       "      <th>50%</th>\n",
       "      <td>20287.000000</td>\n",
       "      <td>3.960000</td>\n",
       "      <td>9.780586e+12</td>\n",
       "      <td>299.000000</td>\n",
       "      <td>7.450000e+02</td>\n",
       "      <td>46.000000</td>\n",
       "    </tr>\n",
       "    <tr>\n",
       "      <th>75%</th>\n",
       "      <td>32104.500000</td>\n",
       "      <td>4.135000</td>\n",
       "      <td>9.780873e+12</td>\n",
       "      <td>416.000000</td>\n",
       "      <td>4.993500e+03</td>\n",
       "      <td>237.500000</td>\n",
       "    </tr>\n",
       "    <tr>\n",
       "      <th>max</th>\n",
       "      <td>45641.000000</td>\n",
       "      <td>5.000000</td>\n",
       "      <td>9.790008e+12</td>\n",
       "      <td>6576.000000</td>\n",
       "      <td>4.597666e+06</td>\n",
       "      <td>94265.000000</td>\n",
       "    </tr>\n",
       "  </tbody>\n",
       "</table>\n",
       "</div>"
      ],
      "text/plain": [
       "             bookID  average_rating        isbn13     num_pages  \\\n",
       "count  11127.000000    11127.000000  1.112700e+04  11127.000000   \n",
       "mean   21310.938887        3.933631  9.759888e+12    336.376921   \n",
       "std    13093.358023        0.352445  4.428964e+11    241.127305   \n",
       "min        1.000000        0.000000  8.987060e+09      0.000000   \n",
       "25%    10287.000000        3.770000  9.780345e+12    192.000000   \n",
       "50%    20287.000000        3.960000  9.780586e+12    299.000000   \n",
       "75%    32104.500000        4.135000  9.780873e+12    416.000000   \n",
       "max    45641.000000        5.000000  9.790008e+12   6576.000000   \n",
       "\n",
       "       ratings_count  text_reviews_count  \n",
       "count   1.112700e+04        11127.000000  \n",
       "mean    1.793641e+04          541.854498  \n",
       "std     1.124794e+05         2576.176608  \n",
       "min     0.000000e+00            0.000000  \n",
       "25%     1.040000e+02            9.000000  \n",
       "50%     7.450000e+02           46.000000  \n",
       "75%     4.993500e+03          237.500000  \n",
       "max     4.597666e+06        94265.000000  "
      ]
     },
     "execution_count": 67,
     "metadata": {},
     "output_type": "execute_result"
    }
   ],
   "source": [
    "# describe df\n",
    "df.describe(include=\"number\")"
   ]
  },
  {
   "cell_type": "markdown",
   "id": "ed1b0bcb",
   "metadata": {},
   "source": [
    "3.1 Numerical summary and 1D plot"
   ]
  },
  {
   "cell_type": "code",
   "execution_count": 68,
   "id": "d0c9e4db",
   "metadata": {},
   "outputs": [
    {
     "data": {
      "text/plain": [
       "count    11127.000000\n",
       "mean         3.933631\n",
       "std          0.352445\n",
       "min          0.000000\n",
       "25%          3.770000\n",
       "50%          3.960000\n",
       "75%          4.135000\n",
       "max          5.000000\n",
       "Name: average_rating, dtype: float64"
      ]
     },
     "execution_count": 68,
     "metadata": {},
     "output_type": "execute_result"
    }
   ],
   "source": [
    "# numerical summary average_rating \n",
    "df.average_rating.describe()"
   ]
  },
  {
   "cell_type": "code",
   "execution_count": 69,
   "id": "5a1b9a43",
   "metadata": {},
   "outputs": [
    {
     "data": {
      "text/plain": [
       "<AxesSubplot: >"
      ]
     },
     "execution_count": 69,
     "metadata": {},
     "output_type": "execute_result"
    },
    {
     "data": {
      "image/png": "[encoded data removed]",
      "text/plain": [
       "<Figure size 640x480 with 1 Axes>"
      ]
     },
     "metadata": {},
     "output_type": "display_data"
    }
   ],
   "source": [
    "# histogram of average ratings \n",
    "df.average_rating.hist(bins=60,legend={\"\"})"
   ]
  },
  {
   "cell_type": "code",
   "execution_count": 75,
   "id": "c9119033",
   "metadata": {},
   "outputs": [],
   "source": [
    "# to correct with frequencies \n",
    "#df[\"cumSum\"] = [sum(df.average_rating[:i-1]/len(df.average_rating)) for i in range(1,(len(df.average_rating) + 1))]\n",
    "\n"
   ]
  },
  {
   "cell_type": "code",
   "execution_count": 76,
   "id": "a1192ec9",
   "metadata": {},
   "outputs": [
    {
     "data": {
      "text/plain": [
       "<AxesSubplot: xlabel='average_rating', ylabel='cumSum'>"
      ]
     },
     "execution_count": 76,
     "metadata": {},
     "output_type": "execute_result"
    },
    {
     "data": {
      "image/png": "[encoded data removed]",
      "text/plain": [
       "<Figure size 640x480 with 1 Axes>"
      ]
     },
     "metadata": {},
     "output_type": "display_data"
    }
   ],
   "source": [
    "#df.plot.scatter(x = \"average_rating\",y = \"cumSum\")"
   ]
  },
  {
   "cell_type": "code",
   "execution_count": null,
   "id": "6927b668",
   "metadata": {},
   "outputs": [],
   "source": [
    "#histogram of average ratings :range [0,3.9]\n",
    "df.average_rating.hist(bins=60,range = [0,3],legend={\"\"})"
   ]
  },
  {
   "cell_type": "code",
   "execution_count": 200,
   "id": "2a247bb6",
   "metadata": {},
   "outputs": [
    {
     "data": {
      "text/plain": [
       "<AxesSubplot: >"
      ]
     },
     "execution_count": 200,
     "metadata": {},
     "output_type": "execute_result"
    },
    {
     "data": {
      "image/png": "[encoded data removed]",
      "text/plain": [
       "<Figure size 640x480 with 1 Axes>"
      ]
     },
     "metadata": {},
     "output_type": "display_data"
    }
   ],
   "source": [
    "# histogram of average ratings :range [0,4.75]\n",
    "df.average_rating.hist(bins=30,range = [3,4.75],legend={\"\"})"
   ]
  },
  {
   "cell_type": "code",
   "execution_count": 201,
   "id": "5a8159b0",
   "metadata": {},
   "outputs": [
    {
     "data": {
      "text/plain": [
       "<AxesSubplot: >"
      ]
     },
     "execution_count": 201,
     "metadata": {},
     "output_type": "execute_result"
    },
    {
     "data": {
      "image/png": "[encoded data removed]",
      "text/plain": [
       "<Figure size 640x480 with 1 Axes>"
      ]
     },
     "metadata": {},
     "output_type": "display_data"
    }
   ],
   "source": [
    "# histogram of average ratings :range [0,3.9]\n",
    "df.average_rating.hist(bins=30,range = [4.75,5],legend={\"\"})"
   ]
  },
  {
   "cell_type": "code",
   "execution_count": 202,
   "id": "4e73733d",
   "metadata": {},
   "outputs": [
    {
     "data": {
      "text/plain": [
       "(104, 13)"
      ]
     },
     "execution_count": 202,
     "metadata": {},
     "output_type": "execute_result"
    }
   ],
   "source": [
    "df.loc[df.average_rating <= 3].shape"
   ]
  },
  {
   "cell_type": "code",
   "execution_count": 203,
   "id": "f8da9b2b",
   "metadata": {},
   "outputs": [
    {
     "data": {
      "text/plain": [
       "(31, 13)"
      ]
     },
     "execution_count": 203,
     "metadata": {},
     "output_type": "execute_result"
    }
   ],
   "source": [
    "df.loc[df.average_rating > 4.75].shape"
   ]
  },
  {
   "cell_type": "markdown",
   "id": "76473b7b",
   "metadata": {},
   "source": [
    "average_ratings is almost an unimodal distribution with an outlier."
   ]
  },
  {
   "cell_type": "code",
   "execution_count": 204,
   "id": "5d1e55fa",
   "metadata": {},
   "outputs": [
    {
     "data": {
      "text/plain": [
       "count    11127.000000\n",
       "mean       336.376921\n",
       "std        241.127305\n",
       "min          0.000000\n",
       "25%        192.000000\n",
       "50%        299.000000\n",
       "75%        416.000000\n",
       "max       6576.000000\n",
       "Name: num_pages, dtype: float64"
      ]
     },
     "execution_count": 204,
     "metadata": {},
     "output_type": "execute_result"
    }
   ],
   "source": [
    "#numerical summary num_pages\n",
    "df.num_pages.describe()"
   ]
  },
  {
   "cell_type": "code",
   "execution_count": 205,
   "id": "4e1437d2",
   "metadata": {},
   "outputs": [
    {
     "data": {
      "text/plain": [
       "<AxesSubplot: >"
      ]
     },
     "execution_count": 205,
     "metadata": {},
     "output_type": "execute_result"
    },
    {
     "data": {
      "image/png": "[encoded data removed]",
      "text/plain": [
       "<Figure size 640x480 with 1 Axes>"
      ]
     },
     "metadata": {},
     "output_type": "display_data"
    }
   ],
   "source": [
    "# histogram of num_pages \n",
    "df.num_pages.hist(bins = 60,range=[0,1200],legend={\"\"})"
   ]
  },
  {
   "cell_type": "code",
   "execution_count": 206,
   "id": "9a30a4c2",
   "metadata": {},
   "outputs": [
    {
     "data": {
      "text/plain": [
       "<AxesSubplot: >"
      ]
     },
     "execution_count": 206,
     "metadata": {},
     "output_type": "execute_result"
    },
    {
     "data": {
      "image/png": "[encoded data removed]",
      "text/plain": [
       "<Figure size 640x480 with 1 Axes>"
      ]
     },
     "metadata": {},
     "output_type": "display_data"
    }
   ],
   "source": [
    "# histogram of num_pages \n",
    "df.num_pages.hist(bins = 60,range=[1200,6000],legend={\"\"})"
   ]
  },
  {
   "cell_type": "markdown",
   "id": "b2aef50c",
   "metadata": {},
   "source": [
    "Num_pages is bimodal distribution, right skewed showing that  at least 50% of books present 299 pages."
   ]
  },
  {
   "cell_type": "code",
   "execution_count": 207,
   "id": "78f732d8",
   "metadata": {},
   "outputs": [
    {
     "data": {
      "text/plain": [
       "(11026, 13)"
      ]
     },
     "execution_count": 207,
     "metadata": {},
     "output_type": "execute_result"
    }
   ],
   "source": [
    "df[df.num_pages <= 1200].shape"
   ]
  },
  {
   "cell_type": "code",
   "execution_count": 208,
   "id": "36fbff04",
   "metadata": {},
   "outputs": [
    {
     "data": {
      "text/plain": [
       "(101, 13)"
      ]
     },
     "execution_count": 208,
     "metadata": {},
     "output_type": "execute_result"
    }
   ],
   "source": [
    "df[df.num_pages >1200].shape"
   ]
  },
  {
   "cell_type": "code",
   "execution_count": 209,
   "id": "a8a0bfa2",
   "metadata": {},
   "outputs": [
    {
     "data": {
      "text/plain": [
       "count            11127\n",
       "unique            6643\n",
       "top       Stephen King\n",
       "freq                40\n",
       "Name: authors, dtype: object"
      ]
     },
     "execution_count": 209,
     "metadata": {},
     "output_type": "execute_result"
    }
   ],
   "source": [
    "# numerical summary authors \n",
    "df.authors.describe()"
   ]
  },
  {
   "cell_type": "code",
   "execution_count": 210,
   "id": "e53ad34a",
   "metadata": {},
   "outputs": [],
   "source": [
    "# sort authors\n",
    "#(df\n",
    " #.groupby(\"authors\")\n",
    " #.aggregate(\"mean\")\n",
    " #.sort_values(by=[\"average_rating\",\"text_reviews_count\"],ascending=False)\n",
    " #[[\"average_rating\",\"text_reviews_count\"]]\n",
    " #.head(5)\n",
    "#)"
   ]
  },
  {
   "cell_type": "code",
   "execution_count": 211,
   "id": "769d09a3",
   "metadata": {},
   "outputs": [
    {
     "data": {
      "text/plain": [
       "count    11127.000000\n",
       "mean       541.854498\n",
       "std       2576.176608\n",
       "min          0.000000\n",
       "25%          9.000000\n",
       "50%         46.000000\n",
       "75%        237.500000\n",
       "max      94265.000000\n",
       "Name: text_reviews_count, dtype: float64"
      ]
     },
     "execution_count": 211,
     "metadata": {},
     "output_type": "execute_result"
    }
   ],
   "source": [
    "# numerical summary text_reviews_count \n",
    "df.text_reviews_count.describe()"
   ]
  },
  {
   "cell_type": "code",
   "execution_count": 212,
   "id": "944cb1fa",
   "metadata": {},
   "outputs": [
    {
     "data": {
      "text/plain": [
       "<AxesSubplot: >"
      ]
     },
     "execution_count": 212,
     "metadata": {},
     "output_type": "execute_result"
    },
    {
     "data": {
      "image/png": "[encoded data removed]",
      "text/plain": [
       "<Figure size 640x480 with 1 Axes>"
      ]
     },
     "metadata": {},
     "output_type": "display_data"
    }
   ],
   "source": [
    "#histogram of text_reviews_count\n",
    "df.text_reviews_count.hist(bins = 100,range =[0,2000],legend={\"\"})\n"
   ]
  },
  {
   "cell_type": "markdown",
   "id": "56dd3d0d",
   "metadata": {},
   "source": [
    "text reviews count present an unimodal and is right skewed distribution. At least 50% of books text reviews count are greater or equal to 46."
   ]
  },
  {
   "cell_type": "code",
   "execution_count": 213,
   "id": "c1d1e8e0",
   "metadata": {},
   "outputs": [
    {
     "data": {
      "text/plain": [
       "count    1.112700e+04\n",
       "mean     1.793641e+04\n",
       "std      1.124794e+05\n",
       "min      0.000000e+00\n",
       "25%      1.040000e+02\n",
       "50%      7.450000e+02\n",
       "75%      4.993500e+03\n",
       "max      4.597666e+06\n",
       "Name: ratings_count, dtype: float64"
      ]
     },
     "execution_count": 213,
     "metadata": {},
     "output_type": "execute_result"
    }
   ],
   "source": [
    "# numerical summary ratings_count \n",
    "df.ratings_count.describe()"
   ]
  },
  {
   "cell_type": "code",
   "execution_count": 214,
   "id": "4cbe4413",
   "metadata": {},
   "outputs": [
    {
     "data": {
      "text/plain": [
       "<AxesSubplot: >"
      ]
     },
     "execution_count": 214,
     "metadata": {},
     "output_type": "execute_result"
    },
    {
     "data": {
      "image/png": "[encoded data removed]",
      "text/plain": [
       "<Figure size 640x480 with 1 Axes>"
      ]
     },
     "metadata": {},
     "output_type": "display_data"
    }
   ],
   "source": [
    "# histogram of ratings_count \n",
    "df.ratings_count.hist(bins = 50,range = [0,2000],legend ={\"\"})"
   ]
  },
  {
   "cell_type": "markdown",
   "id": "fad8750e",
   "metadata": {},
   "source": [
    "Ratings count distribution is unimodal, right sekewed. At least 50% of books ratings count is greater or equal to 745."
   ]
  },
  {
   "cell_type": "code",
   "execution_count": 215,
   "id": "b1084fde",
   "metadata": {},
   "outputs": [
    {
     "data": {
      "text/plain": [
       "count          11127\n",
       "unique          3678\n",
       "top       2005-10-01\n",
       "freq              56\n",
       "Name: publication_Date, dtype: object"
      ]
     },
     "execution_count": 215,
     "metadata": {},
     "output_type": "execute_result"
    }
   ],
   "source": [
    "# numerical summary publication Date\n",
    "df.publication_Date.describe()"
   ]
  },
  {
   "cell_type": "code",
   "execution_count": 216,
   "id": "d1105419",
   "metadata": {},
   "outputs": [
    {
     "data": {
      "text/plain": [
       "0.00    1900-01-01\n",
       "0.25    1998-07-17\n",
       "0.50    2003-03-01\n",
       "0.75    2005-09-30\n",
       "1.00    2020-03-31\n",
       "Name: publication_Date, dtype: object"
      ]
     },
     "execution_count": 216,
     "metadata": {},
     "output_type": "execute_result"
    }
   ],
   "source": [
    "(df\n",
    "[\"publication_Date\"]\n",
    ".quantile([0.0,0.25,0.5,0.75,1])\n",
    ")"
   ]
  },
  {
   "cell_type": "code",
   "execution_count": 217,
   "id": "e2c09838",
   "metadata": {},
   "outputs": [
    {
     "data": {
      "text/plain": [
       "<AxesSubplot: >"
      ]
     },
     "execution_count": 217,
     "metadata": {},
     "output_type": "execute_result"
    },
    {
     "data": {
      "image/png": "[encoded data removed]",
      "text/plain": [
       "<Figure size 640x480 with 1 Axes>"
      ]
     },
     "metadata": {},
     "output_type": "display_data"
    }
   ],
   "source": [
    "# histogram of publication date \n",
    "df.publication_Date.hist(bins = 70)"
   ]
  },
  {
   "cell_type": "markdown",
   "id": "5d49a73e",
   "metadata": {},
   "source": [
    "publication date distribution is unimodal and left skewed. At least 50% of books has been published before 2003."
   ]
  },
  {
   "cell_type": "markdown",
   "id": "eacb7ed4",
   "metadata": {},
   "source": [
    "3.2 Numerical summary and  2D plot "
   ]
  },
  {
   "cell_type": "markdown",
   "id": "7d4149a3",
   "metadata": {},
   "source": [
    "REPRISE!"
   ]
  },
  {
   "cell_type": "code",
   "execution_count": 218,
   "id": "73705dac",
   "metadata": {},
   "outputs": [
    {
     "name": "stderr",
     "output_type": "stream",
     "text": [
      "/Users/mpaga/opt/anaconda3/lib/python3.9/site-packages/pandas/plotting/_matplotlib/core.py:1114: UserWarning: No data for colormapping provided via 'c'. Parameters 'cmap' will be ignored\n",
      "  scatter = ax.scatter(\n"
     ]
    },
    {
     "data": {
      "text/plain": [
       "<AxesSubplot: xlabel='num_pages', ylabel='average_rating'>"
      ]
     },
     "execution_count": 218,
     "metadata": {},
     "output_type": "execute_result"
    },
    {
     "data": {
      "image/png": "[encoded data removed]",
      "text/plain": [
       "<Figure size 640x480 with 1 Axes>"
      ]
     },
     "metadata": {},
     "output_type": "display_data"
    }
   ],
   "source": [
    "# scatter plot average rating vs num_pages\n",
    "df.plot.scatter(x=\"num_pages\",y = \"average_rating\")"
   ]
  },
  {
   "cell_type": "code",
   "execution_count": 219,
   "id": "0324b724",
   "metadata": {},
   "outputs": [
    {
     "data": {
      "text/plain": [
       "<AxesSubplot: xlabel='text_reviews_count', ylabel='average_rating'>"
      ]
     },
     "execution_count": 219,
     "metadata": {},
     "output_type": "execute_result"
    },
    {
     "data": {
      "image/png": "[encoded data removed]",
      "text/plain": [
       "<Figure size 640x480 with 1 Axes>"
      ]
     },
     "metadata": {},
     "output_type": "display_data"
    }
   ],
   "source": [
    "# scatter plot average_rating vs text_reviews_count \n",
    "df.plot.scatter(x=\"text_reviews_count\",y = \"average_rating\")"
   ]
  },
  {
   "cell_type": "code",
   "execution_count": 220,
   "id": "44c1d079",
   "metadata": {},
   "outputs": [
    {
     "data": {
      "text/plain": [
       "<AxesSubplot: xlabel='ratings_count', ylabel='average_rating'>"
      ]
     },
     "execution_count": 220,
     "metadata": {},
     "output_type": "execute_result"
    },
    {
     "data": {
      "image/png": "[encoded data removed]",
      "text/plain": [
       "<Figure size 640x480 with 1 Axes>"
      ]
     },
     "metadata": {},
     "output_type": "display_data"
    }
   ],
   "source": [
    "# scatter plot average rating. vs ratings count \n",
    "df.plot.scatter(x=\"ratings_count\",y = \"average_rating\")"
   ]
  },
  {
   "cell_type": "markdown",
   "id": "37f1c38b",
   "metadata": {},
   "source": [
    "3.3  Numerical variables correlations "
   ]
  },
  {
   "cell_type": "code",
   "execution_count": 221,
   "id": "9bd72d44",
   "metadata": {},
   "outputs": [
    {
     "data": {
      "text/html": [
       "<div>\n",
       "<style scoped>\n",
       "    .dataframe tbody tr th:only-of-type {\n",
       "        vertical-align: middle;\n",
       "    }\n",
       "\n",
       "    .dataframe tbody tr th {\n",
       "        vertical-align: top;\n",
       "    }\n",
       "\n",
       "    .dataframe thead th {\n",
       "        text-align: right;\n",
       "    }\n",
       "</style>\n",
       "<table border=\"1\" class=\"dataframe\">\n",
       "  <thead>\n",
       "    <tr style=\"text-align: right;\">\n",
       "      <th></th>\n",
       "      <th>average_rating</th>\n",
       "      <th>num_pages</th>\n",
       "      <th>ratings_count</th>\n",
       "      <th>text_reviews_count</th>\n",
       "      <th>cumSum</th>\n",
       "    </tr>\n",
       "  </thead>\n",
       "  <tbody>\n",
       "    <tr>\n",
       "      <th>average_rating</th>\n",
       "      <td>1.000000</td>\n",
       "      <td>0.150809</td>\n",
       "      <td>0.038205</td>\n",
       "      <td>0.033734</td>\n",
       "      <td>1.000000</td>\n",
       "    </tr>\n",
       "    <tr>\n",
       "      <th>num_pages</th>\n",
       "      <td>0.150809</td>\n",
       "      <td>1.000000</td>\n",
       "      <td>0.034353</td>\n",
       "      <td>0.036998</td>\n",
       "      <td>0.150809</td>\n",
       "    </tr>\n",
       "    <tr>\n",
       "      <th>ratings_count</th>\n",
       "      <td>0.038205</td>\n",
       "      <td>0.034353</td>\n",
       "      <td>1.000000</td>\n",
       "      <td>0.865979</td>\n",
       "      <td>0.038205</td>\n",
       "    </tr>\n",
       "    <tr>\n",
       "      <th>text_reviews_count</th>\n",
       "      <td>0.033734</td>\n",
       "      <td>0.036998</td>\n",
       "      <td>0.865979</td>\n",
       "      <td>1.000000</td>\n",
       "      <td>0.033734</td>\n",
       "    </tr>\n",
       "    <tr>\n",
       "      <th>cumSum</th>\n",
       "      <td>1.000000</td>\n",
       "      <td>0.150809</td>\n",
       "      <td>0.038205</td>\n",
       "      <td>0.033734</td>\n",
       "      <td>1.000000</td>\n",
       "    </tr>\n",
       "  </tbody>\n",
       "</table>\n",
       "</div>"
      ],
      "text/plain": [
       "                    average_rating  num_pages  ratings_count  \\\n",
       "average_rating            1.000000   0.150809       0.038205   \n",
       "num_pages                 0.150809   1.000000       0.034353   \n",
       "ratings_count             0.038205   0.034353       1.000000   \n",
       "text_reviews_count        0.033734   0.036998       0.865979   \n",
       "cumSum                    1.000000   0.150809       0.038205   \n",
       "\n",
       "                    text_reviews_count    cumSum  \n",
       "average_rating                0.033734  1.000000  \n",
       "num_pages                     0.036998  0.150809  \n",
       "ratings_count                 0.865979  0.038205  \n",
       "text_reviews_count            1.000000  0.033734  \n",
       "cumSum                        0.033734  1.000000  "
      ]
     },
     "execution_count": 221,
     "metadata": {},
     "output_type": "execute_result"
    }
   ],
   "source": [
    "# correlation table\n",
    "(df.select_dtypes(include = \"number\")\n",
    ".drop([\"bookID\",\"isbn13\"],axis = 1)\n",
    ".corr()\n",
    ")\n"
   ]
  },
  {
   "cell_type": "markdown",
   "id": "7932af2d",
   "metadata": {},
   "source": [
    "-numerical features are not correlated "
   ]
  },
  {
   "cell_type": "markdown",
   "id": "7476ebae",
   "metadata": {},
   "source": [
    "4 features engineering part1  \n",
    "we are going to remove variables without any variations :\n",
    "bookID, title , authors,isbn,isbn13, language_code, publisher"
   ]
  },
  {
   "cell_type": "code",
   "execution_count": 222,
   "id": "6c860b28",
   "metadata": {},
   "outputs": [
    {
     "data": {
      "text/plain": [
       "(11127, 6)"
      ]
     },
     "execution_count": 222,
     "metadata": {},
     "output_type": "execute_result"
    }
   ],
   "source": [
    "# create a new dataframe : df1\n",
    "df1 = df[['bookID','title','authors','isbn','isbn13',\n",
    "               'publisher']]\n",
    "df1.shape"
   ]
  },
  {
   "cell_type": "code",
   "execution_count": 223,
   "id": "3560bc5f",
   "metadata": {},
   "outputs": [
    {
     "data": {
      "text/plain": [
       "0"
      ]
     },
     "execution_count": 223,
     "metadata": {},
     "output_type": "execute_result"
    }
   ],
   "source": [
    "df.average_rating.isna().sum()"
   ]
  },
  {
   "cell_type": "markdown",
   "id": "1da42a77",
   "metadata": {},
   "source": [
    "4.1 Discretize average_rating"
   ]
  },
  {
   "cell_type": "code",
   "execution_count": 224,
   "id": "0edc2361",
   "metadata": {},
   "outputs": [],
   "source": [
    "rating_class = []\n",
    "i = 0\n",
    "for rating in df.average_rating : \n",
    "    floor = round(rating)\n",
    "    new_rating = 0\n",
    "    if rating >  floor + 0.49:\n",
    "        new_rating = floor + 1\n",
    "    if   rating >floor+0.45 and  rating < floor+0.55 :\n",
    "         new_rating = floor + 0.5\n",
    "    else:\n",
    "        new_rating = floor\n",
    "    rating_class.append(new_rating)\n",
    "    i +=1\n",
    "df[\"rating_class\"] = rating_class"
   ]
  },
  {
   "cell_type": "code",
   "execution_count": 225,
   "id": "a693c6f0",
   "metadata": {},
   "outputs": [
    {
     "data": {
      "text/plain": [
       "0    5.0\n",
       "1    4.5\n",
       "2    4.0\n",
       "Name: rating_class, dtype: float64"
      ]
     },
     "execution_count": 225,
     "metadata": {},
     "output_type": "execute_result"
    }
   ],
   "source": [
    "df.rating_class.head(3)"
   ]
  },
  {
   "cell_type": "code",
   "execution_count": 226,
   "id": "26460dcf",
   "metadata": {},
   "outputs": [
    {
     "data": {
      "text/plain": [
       "11124    4.0\n",
       "11125    4.0\n",
       "11126    4.0\n",
       "Name: rating_class, dtype: float64"
      ]
     },
     "execution_count": 226,
     "metadata": {},
     "output_type": "execute_result"
    }
   ],
   "source": [
    "df.rating_class.tail(3)"
   ]
  },
  {
   "cell_type": "code",
   "execution_count": 227,
   "id": "ed26b89f",
   "metadata": {},
   "outputs": [
    {
     "data": {
      "text/plain": [
       "4.0    0.907\n",
       "3.0    0.051\n",
       "5.0    0.017\n",
       "3.5    0.011\n",
       "4.5    0.010\n",
       "0.0    0.002\n",
       "2.0    0.001\n",
       "1.0    0.000\n",
       "2.5    0.000\n",
       "Name: rating_class, dtype: float64"
      ]
     },
     "execution_count": 227,
     "metadata": {},
     "output_type": "execute_result"
    }
   ],
   "source": [
    "round(df.rating_class.value_counts()/ len(df.rating_class),3)"
   ]
  },
  {
   "cell_type": "code",
   "execution_count": 228,
   "id": "7d582e0c",
   "metadata": {},
   "outputs": [
    {
     "data": {
      "text/plain": [
       "<AxesSubplot: >"
      ]
     },
     "execution_count": 228,
     "metadata": {},
     "output_type": "execute_result"
    },
    {
     "data": {
      "image/png": "[encoded data removed]",
      "text/plain": [
       "<Figure size 640x480 with 1 Axes>"
      ]
     },
     "metadata": {},
     "output_type": "display_data"
    }
   ],
   "source": [
    "df.rating_class.hist()"
   ]
  },
  {
   "cell_type": "markdown",
   "id": "31cf208c",
   "metadata": {},
   "source": [
    "Discretizing average_rating  make it unbalanced data. \n",
    "Need to fix unbalanced case.  "
   ]
  },
  {
   "cell_type": "markdown",
   "id": "d9bdbee6",
   "metadata": {},
   "source": [
    "4.2 Splitting data "
   ]
  },
  {
   "cell_type": "code",
   "execution_count": 229,
   "id": "e2e297e7",
   "metadata": {},
   "outputs": [
    {
     "data": {
      "text/plain": [
       "Index(['bookID', 'title', 'authors', 'average_rating', 'isbn', 'isbn13',\n",
       "       'language_code', 'num_pages', 'ratings_count', 'text_reviews_count',\n",
       "       'publisher', 'publication_Date', 'cumSum', 'rating_class'],\n",
       "      dtype='object')"
      ]
     },
     "execution_count": 229,
     "metadata": {},
     "output_type": "execute_result"
    }
   ],
   "source": [
    "df.columns"
   ]
  },
  {
   "cell_type": "code",
   "execution_count": 230,
   "id": "d6be1e23",
   "metadata": {},
   "outputs": [],
   "source": [
    "# selecting numerical features\n",
    "df1 = df[['average_rating', 'num_pages', 'ratings_count', 'text_reviews_count']]"
   ]
  },
  {
   "cell_type": "code",
   "execution_count": 231,
   "id": "8f997bd4",
   "metadata": {},
   "outputs": [
    {
     "data": {
      "text/plain": [
       "0"
      ]
     },
     "execution_count": 231,
     "metadata": {},
     "output_type": "execute_result"
    }
   ],
   "source": [
    "df1.average_rating.isna().sum()"
   ]
  },
  {
   "cell_type": "code",
   "execution_count": 232,
   "id": "df922f80",
   "metadata": {},
   "outputs": [
    {
     "data": {
      "text/html": [
       "<div>\n",
       "<style scoped>\n",
       "    .dataframe tbody tr th:only-of-type {\n",
       "        vertical-align: middle;\n",
       "    }\n",
       "\n",
       "    .dataframe tbody tr th {\n",
       "        vertical-align: top;\n",
       "    }\n",
       "\n",
       "    .dataframe thead th {\n",
       "        text-align: right;\n",
       "    }\n",
       "</style>\n",
       "<table border=\"1\" class=\"dataframe\">\n",
       "  <thead>\n",
       "    <tr style=\"text-align: right;\">\n",
       "      <th></th>\n",
       "      <th>average_rating</th>\n",
       "      <th>num_pages</th>\n",
       "      <th>ratings_count</th>\n",
       "      <th>text_reviews_count</th>\n",
       "    </tr>\n",
       "  </thead>\n",
       "  <tbody>\n",
       "    <tr>\n",
       "      <th>0</th>\n",
       "      <td>4.57</td>\n",
       "      <td>652</td>\n",
       "      <td>2095690</td>\n",
       "      <td>27591</td>\n",
       "    </tr>\n",
       "    <tr>\n",
       "      <th>1</th>\n",
       "      <td>4.49</td>\n",
       "      <td>870</td>\n",
       "      <td>2153167</td>\n",
       "      <td>29221</td>\n",
       "    </tr>\n",
       "    <tr>\n",
       "      <th>2</th>\n",
       "      <td>4.42</td>\n",
       "      <td>352</td>\n",
       "      <td>6333</td>\n",
       "      <td>244</td>\n",
       "    </tr>\n",
       "  </tbody>\n",
       "</table>\n",
       "</div>"
      ],
      "text/plain": [
       "   average_rating  num_pages  ratings_count  text_reviews_count\n",
       "0            4.57        652        2095690               27591\n",
       "1            4.49        870        2153167               29221\n",
       "2            4.42        352           6333                 244"
      ]
     },
     "execution_count": 232,
     "metadata": {},
     "output_type": "execute_result"
    }
   ],
   "source": [
    "df1.head(3)"
   ]
  },
  {
   "cell_type": "code",
   "execution_count": 233,
   "id": "5e0c3702",
   "metadata": {},
   "outputs": [],
   "source": [
    "#df1[\"eng\"]= 1*(df1.language_code == \"eng\")"
   ]
  },
  {
   "cell_type": "code",
   "execution_count": 234,
   "id": "a63f269f",
   "metadata": {},
   "outputs": [],
   "source": [
    "#df1 = df1.drop('language_code',axis = 1)"
   ]
  },
  {
   "cell_type": "code",
   "execution_count": 235,
   "id": "bfcc8a94",
   "metadata": {},
   "outputs": [],
   "source": [
    "from sklearn.model_selection import train_test_split\n",
    "train0,test = train_test_split(df1, test_size= 20,random_state=42)"
   ]
  },
  {
   "cell_type": "code",
   "execution_count": 236,
   "id": "7c8467d0",
   "metadata": {},
   "outputs": [],
   "source": [
    "# split train0 in train and valid \n",
    "train,valid = train_test_split(train0,test_size=40,random_state=42)"
   ]
  },
  {
   "cell_type": "code",
   "execution_count": 237,
   "id": "ed52ab29",
   "metadata": {},
   "outputs": [],
   "source": [
    "# subsetting \n",
    "# train0\n",
    "X_train0 = train0.drop(\"average_rating\",axis = 1)\n",
    "y_train0 = train0.average_rating\n",
    "\n",
    "# train\n",
    "X_train = train.drop(\"average_rating\",axis = 1)\n",
    "y_train = train.average_rating\n",
    "\n",
    "# valid \n",
    "X_valid = valid.drop(\"average_rating\",axis=1)\n",
    "y_valid = valid.average_rating\n",
    "\n",
    "# test \n",
    "X_test = test.drop(\"average_rating\",axis = 1)\n",
    "y_test = test.average_rating"
   ]
  },
  {
   "cell_type": "markdown",
   "id": "91b32b14",
   "metadata": {},
   "source": [
    "5 modelling "
   ]
  },
  {
   "cell_type": "markdown",
   "id": "e7a64e83",
   "metadata": {},
   "source": [
    "5.1 Linear models"
   ]
  },
  {
   "cell_type": "markdown",
   "id": "f753dc5c",
   "metadata": {},
   "source": [
    "-linear model : OLS"
   ]
  },
  {
   "cell_type": "code",
   "execution_count": 238,
   "id": "01aefb2d",
   "metadata": {},
   "outputs": [
    {
     "data": {
      "text/plain": [
       "LinearRegression()"
      ]
     },
     "execution_count": 238,
     "metadata": {},
     "output_type": "execute_result"
    }
   ],
   "source": [
    "# linear model \n",
    "from sklearn import linear_model\n",
    "reg = linear_model.LinearRegression()\n",
    "reg.fit(X_train,y_train)\n"
   ]
  },
  {
   "cell_type": "code",
   "execution_count": 239,
   "id": "4c0e24cb",
   "metadata": {},
   "outputs": [
    {
     "data": {
      "text/plain": [
       "array([ 2.19042388e-04,  1.07767098e-07, -2.07788059e-07])"
      ]
     },
     "execution_count": 239,
     "metadata": {},
     "output_type": "execute_result"
    }
   ],
   "source": [
    "\n",
    "# regression coefficients \n",
    "reg.coef_"
   ]
  },
  {
   "cell_type": "markdown",
   "id": "7342c7a1",
   "metadata": {},
   "source": [
    "-regularized linear models"
   ]
  },
  {
   "cell_type": "markdown",
   "id": "23c2792b",
   "metadata": {},
   "source": [
    "-Ridge : alpha = 0.01 "
   ]
  },
  {
   "cell_type": "code",
   "execution_count": 240,
   "id": "55e71c99",
   "metadata": {},
   "outputs": [
    {
     "data": {
      "text/plain": [
       "Ridge(alpha=0.01)"
      ]
     },
     "execution_count": 240,
     "metadata": {},
     "output_type": "execute_result"
    }
   ],
   "source": [
    "# regularized model : ridge model, alpha = 0.1 \n",
    "reg_ridge = linear_model.Ridge(alpha=0.01)\n",
    "reg_ridge.fit(X_train,y_train)"
   ]
  },
  {
   "cell_type": "markdown",
   "id": "ccf05111",
   "metadata": {},
   "source": [
    "-ridge alphas, cv = 5"
   ]
  },
  {
   "cell_type": "code",
   "execution_count": 241,
   "id": "0d2dd4dd",
   "metadata": {},
   "outputs": [
    {
     "data": {
      "text/plain": [
       "RidgeCV(alphas=array([1.e-03, 1.e-02, 1.e-01, 1.e+00, 1.e+01]), cv=5)"
      ]
     },
     "execution_count": 241,
     "metadata": {},
     "output_type": "execute_result"
    }
   ],
   "source": [
    "# ridge model with cross validation \n",
    "# regularized model : ridge model with cv =5\n",
    "reg_ridge_CV = linear_model.RidgeCV(alphas=[0.001,0.01,0.1,1,10],cv=5)\n",
    "reg_ridge_CV.fit(X_train0,y_train0)"
   ]
  },
  {
   "cell_type": "markdown",
   "id": "d921b419",
   "metadata": {},
   "source": [
    "-Lasso"
   ]
  },
  {
   "cell_type": "code",
   "execution_count": 242,
   "id": "06e11c43",
   "metadata": {},
   "outputs": [
    {
     "data": {
      "text/plain": [
       "Lasso(alpha=0.5)"
      ]
     },
     "execution_count": 242,
     "metadata": {},
     "output_type": "execute_result"
    }
   ],
   "source": [
    "#from sklearn import linear_model, alpha = 0.5\n",
    "reg_lasso = linear_model.Lasso(alpha=0.5)\n",
    "reg_lasso.fit(X_train,y_train)"
   ]
  },
  {
   "cell_type": "markdown",
   "id": "cfe850d2",
   "metadata": {},
   "source": [
    "5.2 Tree based model "
   ]
  },
  {
   "cell_type": "code",
   "execution_count": 243,
   "id": "80c69f25",
   "metadata": {},
   "outputs": [],
   "source": [
    "# tree based model \n",
    "from sklearn import tree\n",
    "regressor = tree.DecisionTreeRegressor(random_state=40)\n",
    "tree_reg= regressor.fit(X_train,y_train)"
   ]
  },
  {
   "cell_type": "markdown",
   "id": "0487847d",
   "metadata": {},
   "source": [
    "5.3 Ensemble models"
   ]
  },
  {
   "cell_type": "code",
   "execution_count": 244,
   "id": "f63624c1",
   "metadata": {},
   "outputs": [
    {
     "data": {
      "text/plain": [
       "RandomForestRegressor(random_state=42)"
      ]
     },
     "execution_count": 244,
     "metadata": {},
     "output_type": "execute_result"
    }
   ],
   "source": [
    " #random forest\n",
    "from sklearn.ensemble import RandomForestRegressor \n",
    "rf = RandomForestRegressor(n_estimators= 100,\n",
    "#max_depth = 5,\n",
    "random_state=42)\n",
    "rf.fit(X_train,y_train)"
   ]
  },
  {
   "cell_type": "markdown",
   "id": "a8671773",
   "metadata": {},
   "source": [
    "5.4 Support vectors machine "
   ]
  },
  {
   "cell_type": "code",
   "execution_count": 245,
   "id": "c974678b",
   "metadata": {},
   "outputs": [
    {
     "data": {
      "text/plain": [
       "Pipeline(steps=[('standardscaler', StandardScaler()),\n",
       "                ('linearsvr',\n",
       "                 LinearSVR(max_iter=100000, random_state=0, tol=1e-05))])"
      ]
     },
     "execution_count": 245,
     "metadata": {},
     "output_type": "execute_result"
    }
   ],
   "source": [
    "# linear svm\n",
    "from sklearn.svm import LinearSVR\n",
    "from sklearn.pipeline import make_pipeline\n",
    "from sklearn.preprocessing import StandardScaler\n",
    "from sklearn.datasets import make_regression\n",
    "X, y = make_regression(n_features=4, random_state=0)\n",
    "svm_regr = make_pipeline(StandardScaler(),\n",
    "                     LinearSVR(random_state=0, tol=1e-5,max_iter=100000))\n",
    "svm_regr.fit(X, y)\n",
    "\n",
    "#"
   ]
  },
  {
   "cell_type": "code",
   "execution_count": 246,
   "id": "562506eb",
   "metadata": {},
   "outputs": [],
   "source": [
    "# scale X_train and Y_train\n",
    "#X_train_scaled = StandardScaler().fit(X_train)\n",
    "#y_train_scaled = StandardScaler().fit(y_train)"
   ]
  },
  {
   "cell_type": "code",
   "execution_count": 247,
   "id": "2197b4d2",
   "metadata": {},
   "outputs": [],
   "source": [
    "# SVR\n",
    "#linear_svm = svm.SVR(kernel='linear')\n",
    "#rbf_svm = svm.SVR(kernel='rbf')\n",
    "\n",
    "# fit\n",
    "#linear_svm.fit(X_train_scaled,y_train_scaled)\n"
   ]
  },
  {
   "cell_type": "code",
   "execution_count": 248,
   "id": "c5c91d94",
   "metadata": {},
   "outputs": [],
   "source": [
    "# radial based svm\n",
    "#rbf_svm.fit(X_train,y_train)"
   ]
  },
  {
   "cell_type": "markdown",
   "id": "b099dfbd",
   "metadata": {},
   "source": [
    "5.5 Multilayers perceptron"
   ]
  },
  {
   "cell_type": "code",
   "execution_count": 249,
   "id": "ea66b65c",
   "metadata": {},
   "outputs": [],
   "source": [
    "# MLP"
   ]
  },
  {
   "cell_type": "code",
   "execution_count": 250,
   "id": "19dc8a03",
   "metadata": {},
   "outputs": [],
   "source": [
    "#skl.metrics.get_scorer_names() : to find models metrics "
   ]
  },
  {
   "cell_type": "code",
   "execution_count": 251,
   "id": "c54b8566",
   "metadata": {},
   "outputs": [],
   "source": [
    "# cross val custom function \n",
    "def model_cross_val(models={}, X_test=None,y_test= None,cv=None, scoring = \"neg_mean_squared_error\"):\n",
    "    from sklearn.model_selection import cross_val_score\n",
    "    table = []\n",
    "    for mod in models :\n",
    "        score = abs(\n",
    "            cross_val_score(models[mod],X_test,y_test,cv=cv,scoring=scoring ).mean())\n",
    "        table.append(abs(score))\n",
    "    print(\n",
    "         pd.DataFrame(data = table,index = models,columns = [\"rmse\"])\n",
    "        .sort_values(by =\"rmse\")\n",
    "        \n",
    "    )\n",
    "\n"
   ]
  },
  {
   "cell_type": "markdown",
   "id": "cb116045",
   "metadata": {},
   "source": [
    "6 cross-validated models "
   ]
  },
  {
   "cell_type": "code",
   "execution_count": 252,
   "id": "969e92ef",
   "metadata": {},
   "outputs": [],
   "source": [
    "# models cross val evaluation\n",
    "models = {\"linear reg\": reg,\"ridge model\":reg_ridge,\"lasso model \": reg_lasso,\n",
    "\"ridge CV\":reg_ridge_CV,\"random forest\":rf,\"linear svm\":svm_regr}\n"
   ]
  },
  {
   "cell_type": "code",
   "execution_count": 253,
   "id": "f2588bdc",
   "metadata": {},
   "outputs": [
    {
     "name": "stdout",
     "output_type": "stream",
     "text": [
      "                   rmse\n",
      "lasso model    0.036762\n",
      "linear svm     0.037469\n",
      "random forest  0.042489\n",
      "ridge CV       0.043709\n",
      "ridge model    0.043738\n",
      "linear reg     0.043738\n"
     ]
    }
   ],
   "source": [
    "\n",
    "# cross_val eval \n",
    "model_cross_val(models,X_test,y_test,cv= 10)"
   ]
  },
  {
   "cell_type": "markdown",
   "id": "6d343dc5",
   "metadata": {},
   "source": [
    "The candidates model are Lasso and svm."
   ]
  },
  {
   "cell_type": "code",
   "execution_count": 254,
   "id": "d20697bf",
   "metadata": {},
   "outputs": [
    {
     "data": {
      "text/plain": [
       "0"
      ]
     },
     "execution_count": 254,
     "metadata": {},
     "output_type": "execute_result"
    }
   ],
   "source": [
    "df1.average_rating.isna().sum()"
   ]
  },
  {
   "cell_type": "markdown",
   "id": "666fbd5e",
   "metadata": {},
   "source": [
    "-Outliers effect on models:\n",
    "lets fit model without outliers."
   ]
  },
  {
   "cell_type": "markdown",
   "id": "eef4d82a",
   "metadata": {},
   "source": [
    "-modelling without outliers "
   ]
  },
  {
   "cell_type": "code",
   "execution_count": 255,
   "id": "82389f4a",
   "metadata": {},
   "outputs": [],
   "source": [
    "# remove outliers from a erage rating only\n",
    "df2 = df.loc[df.average_rating >= 2,['average_rating', 'num_pages', 'ratings_count', 'text_reviews_count']]"
   ]
  },
  {
   "cell_type": "code",
   "execution_count": 256,
   "id": "1226f64a",
   "metadata": {},
   "outputs": [
    {
     "data": {
      "text/plain": [
       "(11098, 4)"
      ]
     },
     "execution_count": 256,
     "metadata": {},
     "output_type": "execute_result"
    }
   ],
   "source": [
    "df2.shape"
   ]
  },
  {
   "cell_type": "code",
   "execution_count": 257,
   "id": "9f140ad4",
   "metadata": {},
   "outputs": [],
   "source": [
    "# detect and remove outliers function\n",
    "def remove_outliers(X,bins = 50, plot = \"bool\"):\n",
    "    # q1 and q3 quantiles\n",
    "    q1,q3 = X.quantile([0.25,0.75])\n",
    "    #print(q1,q3)\n",
    "\n",
    "    #interquatile range \n",
    "    iqr = q3 - q1\n",
    "    #print(pd.DataFrame([[q1, q3 ,iqr]],columns = [\"q1\",\"q3\",\"IQR\"]))\n",
    "\n",
    "    # remove \n",
    "    if q1 - 1.5*iqr < 0 :\n",
    "      X =  X[X.between(q1 - 1.5*iqr, q3 + 1.5*iqr,inclusive = \"both\")]\n",
    "       \n",
    "    else:\n",
    "      X = X[X.between(q1 - 1.5*iqr, q3 + 1.5*iqr,inclusive = \"both\")]\n",
    "    # histogram\n",
    "    if plot :\n",
    "      X.hist( bins = bins,legend = {\"\"})\n",
    "    return X\n",
    "\n"
   ]
  },
  {
   "cell_type": "code",
   "execution_count": 258,
   "id": "d0f3d73e",
   "metadata": {},
   "outputs": [
    {
     "data": {
      "text/plain": [
       "<AxesSubplot: >"
      ]
     },
     "execution_count": 258,
     "metadata": {},
     "output_type": "execute_result"
    },
    {
     "data": {
      "image/png": "[encoded data removed]",
      "text/plain": [
       "<Figure size 640x480 with 1 Axes>"
      ]
     },
     "metadata": {},
     "output_type": "display_data"
    }
   ],
   "source": [
    "df2.average_rating.hist(bins = 100)\n"
   ]
  },
  {
   "cell_type": "code",
   "execution_count": 259,
   "id": "5038acf6",
   "metadata": {},
   "outputs": [
    {
     "data": {
      "text/plain": [
       "0        4.57\n",
       "1        4.49\n",
       "2        4.42\n",
       "3        4.56\n",
       "5        3.74\n",
       "         ... \n",
       "11122    4.06\n",
       "11123    4.08\n",
       "11124    3.96\n",
       "11125    3.72\n",
       "11126    3.91\n",
       "Name: average_rating, Length: 10877, dtype: float64"
      ]
     },
     "execution_count": 259,
     "metadata": {},
     "output_type": "execute_result"
    },
    {
     "data": {
      "image/png": "[encoded data removed]",
      "text/plain": [
       "<Figure size 640x480 with 1 Axes>"
      ]
     },
     "metadata": {},
     "output_type": "display_data"
    }
   ],
   "source": [
    "\n",
    "remove_outliers(df.average_rating, bins = 30)\n"
   ]
  },
  {
   "cell_type": "code",
   "execution_count": 260,
   "id": "14dfebe6",
   "metadata": {},
   "outputs": [
    {
     "data": {
      "text/plain": [
       "2        244\n",
       "4        164\n",
       "5          1\n",
       "7        254\n",
       "9        460\n",
       "        ... \n",
       "11122     20\n",
       "11123     56\n",
       "11124     95\n",
       "11125    139\n",
       "11126     12\n",
       "Name: text_reviews_count, Length: 9496, dtype: int64"
      ]
     },
     "execution_count": 260,
     "metadata": {},
     "output_type": "execute_result"
    },
    {
     "data": {
      "image/png": "[encoded data removed]",
      "text/plain": [
       "<Figure size 640x480 with 1 Axes>"
      ]
     },
     "metadata": {},
     "output_type": "display_data"
    }
   ],
   "source": [
    "remove_outliers(df1.text_reviews_count,bins = 30)"
   ]
  },
  {
   "cell_type": "code",
   "execution_count": 261,
   "id": "283aa74c",
   "metadata": {},
   "outputs": [
    {
     "data": {
      "text/plain": [
       "2        6333\n",
       "5          19\n",
       "7        3628\n",
       "9        4930\n",
       "10       1266\n",
       "         ... \n",
       "11122     156\n",
       "11123     783\n",
       "11124     820\n",
       "11125     769\n",
       "11126     113\n",
       "Name: ratings_count, Length: 9398, dtype: int64"
      ]
     },
     "execution_count": 261,
     "metadata": {},
     "output_type": "execute_result"
    },
    {
     "data": {
      "image/png": "[encoded data removed]",
      "text/plain": [
       "<Figure size 640x480 with 1 Axes>"
      ]
     },
     "metadata": {},
     "output_type": "display_data"
    }
   ],
   "source": [
    "remove_outliers(df1.ratings_count,bins = 30)"
   ]
  },
  {
   "cell_type": "code",
   "execution_count": 262,
   "id": "1f8c05c9",
   "metadata": {},
   "outputs": [
    {
     "data": {
      "text/plain": [
       "0        652\n",
       "2        352\n",
       "3        435\n",
       "5        152\n",
       "9        215\n",
       "        ... \n",
       "11122    512\n",
       "11123    635\n",
       "11124    415\n",
       "11125    434\n",
       "11126    272\n",
       "Name: num_pages, Length: 10587, dtype: int64"
      ]
     },
     "execution_count": 262,
     "metadata": {},
     "output_type": "execute_result"
    },
    {
     "data": {
      "image/png": "[encoded data removed]",
      "text/plain": [
       "<Figure size 640x480 with 1 Axes>"
      ]
     },
     "metadata": {},
     "output_type": "display_data"
    }
   ],
   "source": [
    "remove_outliers(df1.num_pages,bins = 30)"
   ]
  },
  {
   "cell_type": "code",
   "execution_count": 263,
   "id": "8acfc56b",
   "metadata": {},
   "outputs": [
    {
     "data": {
      "text/plain": [
       "average_rating        0\n",
       "num_pages             0\n",
       "ratings_count         0\n",
       "text_reviews_count    0\n",
       "dtype: int64"
      ]
     },
     "execution_count": 263,
     "metadata": {},
     "output_type": "execute_result"
    }
   ],
   "source": [
    "df2.isna().sum()"
   ]
  },
  {
   "cell_type": "code",
   "execution_count": 264,
   "id": "41bac2eb",
   "metadata": {},
   "outputs": [],
   "source": [
    "# split data\n",
    "train,test = train_test_split(df2, test_size= 0.4,random_state=42)\n",
    "\n",
    "# train\n",
    "X_train = train.drop(\"average_rating\",axis=1)\n",
    "y_train = train.average_rating\n",
    "\n",
    "# test\n",
    "X_test = test.drop(\"average_rating\",axis=1)\n",
    "y_test = test.average_rating"
   ]
  },
  {
   "cell_type": "code",
   "execution_count": 265,
   "id": "58f9db08",
   "metadata": {},
   "outputs": [
    {
     "data": {
      "text/plain": [
       "LinearRegression()"
      ]
     },
     "execution_count": 265,
     "metadata": {},
     "output_type": "execute_result"
    }
   ],
   "source": [
    "# linear model \n",
    "reg.fit(X_train,y_train)"
   ]
  },
  {
   "cell_type": "code",
   "execution_count": 266,
   "id": "d1338305",
   "metadata": {},
   "outputs": [
    {
     "data": {
      "text/plain": [
       "Lasso(alpha=0.5)"
      ]
     },
     "execution_count": 266,
     "metadata": {},
     "output_type": "execute_result"
    }
   ],
   "source": [
    "# lasso\n",
    "reg_lasso.fit(X_train,y_train)"
   ]
  },
  {
   "cell_type": "code",
   "execution_count": 267,
   "id": "48740eb5",
   "metadata": {},
   "outputs": [
    {
     "data": {
      "text/plain": [
       "Ridge(alpha=0.01)"
      ]
     },
     "execution_count": 267,
     "metadata": {},
     "output_type": "execute_result"
    }
   ],
   "source": [
    "#ridge\n",
    "reg_ridge.fit(X_train,y_train)"
   ]
  },
  {
   "cell_type": "code",
   "execution_count": 268,
   "id": "639fda74",
   "metadata": {},
   "outputs": [
    {
     "data": {
      "text/plain": [
       "RandomForestRegressor(random_state=42)"
      ]
     },
     "execution_count": 268,
     "metadata": {},
     "output_type": "execute_result"
    }
   ],
   "source": [
    "# random forest\n",
    "rf.fit(X_train,y_train)"
   ]
  },
  {
   "cell_type": "code",
   "execution_count": 269,
   "id": "efbab8d5",
   "metadata": {},
   "outputs": [
    {
     "data": {
      "text/plain": [
       "Pipeline(steps=[('standardscaler', StandardScaler()),\n",
       "                ('linearsvr',\n",
       "                 LinearSVR(max_iter=100000, random_state=0, tol=1e-05))])"
      ]
     },
     "execution_count": 269,
     "metadata": {},
     "output_type": "execute_result"
    }
   ],
   "source": [
    "# svm\n",
    "svm_regr.fit(X_train, y_train)"
   ]
  },
  {
   "cell_type": "markdown",
   "id": "c3975969",
   "metadata": {},
   "source": [
    "7 Models new evaluation"
   ]
  },
  {
   "cell_type": "code",
   "execution_count": 270,
   "id": "835ca536",
   "metadata": {},
   "outputs": [
    {
     "name": "stdout",
     "output_type": "stream",
     "text": [
      "                   rmse\n",
      "lasso model    0.085798\n",
      "ridge CV       0.085799\n",
      "ridge model    0.085799\n",
      "linear reg     0.085799\n",
      "linear svm     0.085943\n",
      "random forest  0.090706\n"
     ]
    }
   ],
   "source": [
    "model_cross_val(models,X_test=X_test, y_test=y_test, cv = 10)"
   ]
  },
  {
   "cell_type": "markdown",
   "id": "f613040f",
   "metadata": {},
   "source": [
    "The models performance is better with outliers and the candidate models are Lasso and ridge with CV. Regularized linear regression model."
   ]
  },
  {
   "cell_type": "markdown",
   "id": "759c7ad9",
   "metadata": {},
   "source": []
  }
 ],
 "metadata": {
  "kernelspec": {
   "display_name": "Python 3 (ipykernel)",
   "language": "python",
   "name": "python3"
  },
  "language_info": {
   "codemirror_mode": {
    "name": "ipython",
    "version": 3
   },
   "file_extension": ".py",
   "mimetype": "text/x-python",
   "name": "python",
   "nbconvert_exporter": "python",
   "pygments_lexer": "ipython3",
   "version": "3.9.7"
  },
  "vscode": {
   "interpreter": {
    "hash": "1f400fd3917260b4df2a70e64dd1b6b0f213226eb51aa2d986fb9f86518ca676"
   }
  }
 },
 "nbformat": 4,
 "nbformat_minor": 5
}
